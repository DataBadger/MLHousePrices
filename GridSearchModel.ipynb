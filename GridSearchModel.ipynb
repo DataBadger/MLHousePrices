{
 "metadata": {
  "language_info": {
   "codemirror_mode": {
    "name": "ipython",
    "version": 3
   },
   "file_extension": ".py",
   "mimetype": "text/x-python",
   "name": "python",
   "nbconvert_exporter": "python",
   "pygments_lexer": "ipython3",
   "version": "3.9.0-final"
  },
  "orig_nbformat": 2,
  "kernelspec": {
   "name": "python3",
   "display_name": "Python 3.9.0 64-bit",
   "metadata": {
    "interpreter": {
     "hash": "ac59ebe37160ed0dfa835113d9b8498d9f09ceb179beaac4002f036b9467c963"
    }
   }
  }
 },
 "nbformat": 4,
 "nbformat_minor": 2,
 "cells": [
  {
   "cell_type": "code",
   "execution_count": 1,
   "metadata": {},
   "outputs": [],
   "source": [
    "import pandas as pd\n",
    "from sklearn.model_selection import train_test_split\n",
    "from sklearn import ensemble\n",
    "from sklearn.metrics import mean_absolute_error\n",
    "from sklearn.model_selection import GridSearchCV"
   ]
  },
  {
   "cell_type": "code",
   "execution_count": 2,
   "metadata": {},
   "outputs": [],
   "source": [
    "df = pd.read_csv('c:\\\\Users\\\\Sasha\\\\Desktop\\\\Py\\\\Git\\\\MLHousePrices\\\\Melbourne_housing_FULL.csv')"
   ]
  },
  {
   "cell_type": "code",
   "execution_count": 3,
   "metadata": {},
   "outputs": [],
   "source": [
    "del df['Address']\n",
    "del df['Method']\n",
    "del df['SellerG']\n",
    "del df['Date']\n",
    "del df['Postcode']\n",
    "del df['Lattitude']\n",
    "del df['Longtitude']\n",
    "del df['Regionname']\n",
    "del df['Propertycount']"
   ]
  },
  {
   "cell_type": "code",
   "execution_count": 4,
   "metadata": {},
   "outputs": [],
   "source": [
    "df.dropna(axis=0,how='any',thresh=None, subset=None, inplace=True)"
   ]
  },
  {
   "cell_type": "code",
   "execution_count": 5,
   "metadata": {},
   "outputs": [],
   "source": [
    "df = pd.get_dummies(df,columns=['Suburb','CouncilArea','Type'])"
   ]
  },
  {
   "cell_type": "code",
   "execution_count": 6,
   "metadata": {},
   "outputs": [
    {
     "output_type": "execute_result",
     "data": {
      "text/plain": [
       "    Rooms      Price  Distance  Bedroom2  Bathroom  Car  Landsize  \\\n",
       "2       2  1035000.0       2.5       2.0       1.0  0.0     156.0   \n",
       "4       3  1465000.0       2.5       3.0       2.0  0.0     134.0   \n",
       "6       4  1600000.0       2.5       3.0       1.0  2.0     120.0   \n",
       "11      3  1876000.0       2.5       4.0       2.0  0.0     245.0   \n",
       "14      2  1636000.0       2.5       2.0       1.0  2.0     256.0   \n",
       "\n",
       "    BuildingArea  YearBuilt  Suburb_Abbotsford  ...  \\\n",
       "2           79.0     1900.0                  1  ...   \n",
       "4          150.0     1900.0                  1  ...   \n",
       "6          142.0     2014.0                  1  ...   \n",
       "11         210.0     1910.0                  1  ...   \n",
       "14         107.0     1890.0                  1  ...   \n",
       "\n",
       "    CouncilArea_Port Phillip City Council  \\\n",
       "2                                       0   \n",
       "4                                       0   \n",
       "6                                       0   \n",
       "11                                      0   \n",
       "14                                      0   \n",
       "\n",
       "    CouncilArea_Stonnington City Council  CouncilArea_Whitehorse City Council  \\\n",
       "2                                      0                                    0   \n",
       "4                                      0                                    0   \n",
       "6                                      0                                    0   \n",
       "11                                     0                                    0   \n",
       "14                                     0                                    0   \n",
       "\n",
       "    CouncilArea_Whittlesea City Council  CouncilArea_Wyndham City Council  \\\n",
       "2                                     0                                 0   \n",
       "4                                     0                                 0   \n",
       "6                                     0                                 0   \n",
       "11                                    0                                 0   \n",
       "14                                    0                                 0   \n",
       "\n",
       "    CouncilArea_Yarra City Council  CouncilArea_Yarra Ranges Shire Council  \\\n",
       "2                                1                                       0   \n",
       "4                                1                                       0   \n",
       "6                                1                                       0   \n",
       "11                               1                                       0   \n",
       "14                               1                                       0   \n",
       "\n",
       "    Type_h  Type_t  Type_u  \n",
       "2        1       0       0  \n",
       "4        1       0       0  \n",
       "6        1       0       0  \n",
       "11       1       0       0  \n",
       "14       1       0       0  \n",
       "\n",
       "[5 rows x 360 columns]"
      ],
      "text/html": "<div>\n<style scoped>\n    .dataframe tbody tr th:only-of-type {\n        vertical-align: middle;\n    }\n\n    .dataframe tbody tr th {\n        vertical-align: top;\n    }\n\n    .dataframe thead th {\n        text-align: right;\n    }\n</style>\n<table border=\"1\" class=\"dataframe\">\n  <thead>\n    <tr style=\"text-align: right;\">\n      <th></th>\n      <th>Rooms</th>\n      <th>Price</th>\n      <th>Distance</th>\n      <th>Bedroom2</th>\n      <th>Bathroom</th>\n      <th>Car</th>\n      <th>Landsize</th>\n      <th>BuildingArea</th>\n      <th>YearBuilt</th>\n      <th>Suburb_Abbotsford</th>\n      <th>...</th>\n      <th>CouncilArea_Port Phillip City Council</th>\n      <th>CouncilArea_Stonnington City Council</th>\n      <th>CouncilArea_Whitehorse City Council</th>\n      <th>CouncilArea_Whittlesea City Council</th>\n      <th>CouncilArea_Wyndham City Council</th>\n      <th>CouncilArea_Yarra City Council</th>\n      <th>CouncilArea_Yarra Ranges Shire Council</th>\n      <th>Type_h</th>\n      <th>Type_t</th>\n      <th>Type_u</th>\n    </tr>\n  </thead>\n  <tbody>\n    <tr>\n      <th>2</th>\n      <td>2</td>\n      <td>1035000.0</td>\n      <td>2.5</td>\n      <td>2.0</td>\n      <td>1.0</td>\n      <td>0.0</td>\n      <td>156.0</td>\n      <td>79.0</td>\n      <td>1900.0</td>\n      <td>1</td>\n      <td>...</td>\n      <td>0</td>\n      <td>0</td>\n      <td>0</td>\n      <td>0</td>\n      <td>0</td>\n      <td>1</td>\n      <td>0</td>\n      <td>1</td>\n      <td>0</td>\n      <td>0</td>\n    </tr>\n    <tr>\n      <th>4</th>\n      <td>3</td>\n      <td>1465000.0</td>\n      <td>2.5</td>\n      <td>3.0</td>\n      <td>2.0</td>\n      <td>0.0</td>\n      <td>134.0</td>\n      <td>150.0</td>\n      <td>1900.0</td>\n      <td>1</td>\n      <td>...</td>\n      <td>0</td>\n      <td>0</td>\n      <td>0</td>\n      <td>0</td>\n      <td>0</td>\n      <td>1</td>\n      <td>0</td>\n      <td>1</td>\n      <td>0</td>\n      <td>0</td>\n    </tr>\n    <tr>\n      <th>6</th>\n      <td>4</td>\n      <td>1600000.0</td>\n      <td>2.5</td>\n      <td>3.0</td>\n      <td>1.0</td>\n      <td>2.0</td>\n      <td>120.0</td>\n      <td>142.0</td>\n      <td>2014.0</td>\n      <td>1</td>\n      <td>...</td>\n      <td>0</td>\n      <td>0</td>\n      <td>0</td>\n      <td>0</td>\n      <td>0</td>\n      <td>1</td>\n      <td>0</td>\n      <td>1</td>\n      <td>0</td>\n      <td>0</td>\n    </tr>\n    <tr>\n      <th>11</th>\n      <td>3</td>\n      <td>1876000.0</td>\n      <td>2.5</td>\n      <td>4.0</td>\n      <td>2.0</td>\n      <td>0.0</td>\n      <td>245.0</td>\n      <td>210.0</td>\n      <td>1910.0</td>\n      <td>1</td>\n      <td>...</td>\n      <td>0</td>\n      <td>0</td>\n      <td>0</td>\n      <td>0</td>\n      <td>0</td>\n      <td>1</td>\n      <td>0</td>\n      <td>1</td>\n      <td>0</td>\n      <td>0</td>\n    </tr>\n    <tr>\n      <th>14</th>\n      <td>2</td>\n      <td>1636000.0</td>\n      <td>2.5</td>\n      <td>2.0</td>\n      <td>1.0</td>\n      <td>2.0</td>\n      <td>256.0</td>\n      <td>107.0</td>\n      <td>1890.0</td>\n      <td>1</td>\n      <td>...</td>\n      <td>0</td>\n      <td>0</td>\n      <td>0</td>\n      <td>0</td>\n      <td>0</td>\n      <td>1</td>\n      <td>0</td>\n      <td>1</td>\n      <td>0</td>\n      <td>0</td>\n    </tr>\n  </tbody>\n</table>\n<p>5 rows × 360 columns</p>\n</div>"
     },
     "metadata": {},
     "execution_count": 6
    }
   ],
   "source": [
    "df.head()"
   ]
  },
  {
   "cell_type": "code",
   "execution_count": 7,
   "metadata": {},
   "outputs": [],
   "source": [
    "X = df.drop('Price',axis=1)\n",
    "y = df['Price']"
   ]
  },
  {
   "cell_type": "code",
   "execution_count": 8,
   "metadata": {},
   "outputs": [],
   "source": [
    "X_train, X_test, y_train, y_test = train_test_split(X,y, test_size=0.3,shuffle = True)"
   ]
  },
  {
   "cell_type": "code",
   "execution_count": 9,
   "metadata": {},
   "outputs": [],
   "source": [
    "model = ensemble.GradientBoostingRegressor()"
   ]
  },
  {
   "cell_type": "code",
   "execution_count": 30,
   "metadata": {},
   "outputs": [],
   "source": [
    "hyperparameters = {'n_estimators': [200,300],\n",
    "                    'max_depth': [4,6],\n",
    "                    'min_samples_split': [3,4],\n",
    "                    'min_samples_leaf': [5,6],\n",
    "                    'learning_rate': [0.01,0.02],\n",
    "                    'max_features': [0.8,0.9],\n",
    "                    'loss': ['ls','lad','huber']\n",
    "                    }"
   ]
  },
  {
   "cell_type": "code",
   "execution_count": 31,
   "metadata": {},
   "outputs": [],
   "source": [
    "grid = GridSearchCV(model, hyperparameters, n_jobs=1)"
   ]
  },
  {
   "cell_type": "code",
   "execution_count": 25,
   "metadata": {},
   "outputs": [
    {
     "output_type": "execute_result",
     "data": {
      "text/plain": [
       "GridSearchCV(estimator=GradientBoostingRegressor(), n_jobs=1,\n",
       "             param_grid={'learning_rate': [0.01], 'loss': ['huber'],\n",
       "                         'max_depth': [4], 'max_features': [0.8],\n",
       "                         'min_samples_leaf': [5], 'min_samples_split': [3],\n",
       "                         'n_estimators': [200]})"
      ]
     },
     "metadata": {},
     "execution_count": 25
    }
   ],
   "source": [
    "grid.fit(X_train,y_train)"
   ]
  },
  {
   "cell_type": "code",
   "execution_count": 26,
   "metadata": {},
   "outputs": [
    {
     "output_type": "execute_result",
     "data": {
      "text/plain": [
       "{'learning_rate': 0.01,\n",
       " 'loss': 'huber',\n",
       " 'max_depth': 4,\n",
       " 'max_features': 0.8,\n",
       " 'min_samples_leaf': 5,\n",
       " 'min_samples_split': 3,\n",
       " 'n_estimators': 200}"
      ]
     },
     "metadata": {},
     "execution_count": 26
    }
   ],
   "source": [
    "grid.best_params_"
   ]
  },
  {
   "cell_type": "code",
   "execution_count": 28,
   "metadata": {},
   "outputs": [
    {
     "output_type": "stream",
     "name": "stdout",
     "text": [
      "Training Set Mean Absolute Error: 242354.87\n"
     ]
    }
   ],
   "source": [
    "mae_train = mean_absolute_error(y_train,grid.predict(X_train))\n",
    "print(\"Training Set Mean Absolute Error: %.2f\" % mae_train)"
   ]
  },
  {
   "cell_type": "code",
   "execution_count": 29,
   "metadata": {},
   "outputs": [
    {
     "output_type": "stream",
     "name": "stdout",
     "text": [
      "Test Set Mean Absolute Error: 245511.53\n"
     ]
    }
   ],
   "source": [
    "mae_test = mean_absolute_error(y_test,grid.predict(X_test))\n",
    "print(\"Test Set Mean Absolute Error: %.2f\" % mae_test)"
   ]
  }
 ]
}